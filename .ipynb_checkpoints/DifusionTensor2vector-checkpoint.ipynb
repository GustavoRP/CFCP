{
 "cells": [
  {
   "cell_type": "markdown",
   "metadata": {},
   "source": [
    "# Tensor Field To Vector Field"
   ]
  },
  {
   "cell_type": "markdown",
   "metadata": {},
   "source": [
    "This JUPYTER notebook is a demonstrative of how to convert a tensor field in a vector field by applying a direction of interest."
   ]
  },
  {
   "cell_type": "markdown",
   "metadata": {},
   "source": [
    "## Importing modules"
   ]
  },
  {
   "cell_type": "code",
   "execution_count": 2,
   "metadata": {},
   "outputs": [
    {
     "name": "stdout",
     "output_type": "stream",
     "text": [
      "Using matplotlib backend: TkAgg\n"
     ]
    }
   ],
   "source": [
    "# import modules and libs\n",
    "import io, os, sys, types\n",
    "import numpy as np\n",
    "\n",
    "# image and graphic\n",
    "from IPython.display import Image\n",
    "from IPython.display import display\n",
    "import matplotlib.pyplot as plt\n",
    "%matplotlib\n",
    "\n",
    "#import specific modules\n",
    "import DTIlib as DTI"
   ]
  },
  {
   "cell_type": "markdown",
   "metadata": {},
   "source": [
    "## Create the Data\n",
    "\n",
    "There are 3 possibe data: Torus, Kissing, and Bifurcation.\n",
    "\n",
    "<div class=\"header\">\n",
    "\n",
    "  <img style=\" display:inline\" src=\"figures/Torus.png\" width=\"200\" alt=\"\"/>\n",
    "  <figcaption>Torus</figcaption>\n",
    "  \n",
    "  <img style=\" display:inline\" src=\"figures/Kissing.png\" width=\"200\" alt=\"\"/>\n",
    "  <figcaption>Kissing</figcaption>\n",
    "  \n",
    "  <img style=\" display:inline\" src=\"figures/Bifurcation.png\" width=\"200\" alt=\"\"/>\n",
    "  <figcaption>Bifurcation</figcaption>\n",
    "  \n",
    "</div>\n"
   ]
  },
  {
   "cell_type": "code",
   "execution_count": 3,
   "metadata": {},
   "outputs": [
    {
     "name": "stdout",
     "output_type": "stream",
     "text": [
      "('evt0.shape = ', (3L, 20L, 20L, 20L))\n"
     ]
    }
   ],
   "source": [
    "# Create data\n",
    "\n",
    "#Eigenvalues\n",
    "l1 = 1\n",
    "l2 = 0.2\n",
    "l3 = 0.2\n",
    "\n",
    "#sizes\n",
    "n = 20  #length = width = height\n",
    "r = 5   #Radius\n",
    "R = 8   #Radius2 => Torus and Kissing\n",
    "\n",
    "# Uncoment to select the data type\n",
    "# evl,evt = DTI.Torus(l1, l2, l3, n, R, r)       #Torus\n",
    "# evl,evt = DTI.kissing(l1, l2, l3, n, R, r)     #Kissing\n",
    "evl,evt = DTI.sintV(l1, l2, l3, n, r,l1*0.7, l2, l3) #Bifurcation\n",
    "\n",
    "FA,MD = DTI.getFractionalAnisotropy(evl)\n",
    "\n",
    "#First eigenvector\n",
    "evt0 = np.zeros(evl.shape)\n",
    "evt0 = evt[0,:,:,:,:]\n",
    "print('evt0.shape = ', evt0.shape)"
   ]
  },
  {
   "cell_type": "markdown",
   "metadata": {},
   "source": [
    "# Set Direction of Interest"
   ]
  },
  {
   "cell_type": "code",
   "execution_count": 4,
   "metadata": {
    "collapsed": true
   },
   "outputs": [],
   "source": [
    "# direction = np.array([1,0,0])  #Z direction\n",
    "direction = np.array([0,1,0])  #Y direction\n",
    "# direction = np.array([0,0,1])  #X direction\n",
    "# direction = np.array([20,1,0])\n",
    "#direction = np.array([tan(3),1,0])\n",
    "\n",
    "# evt_d = DTI.set_direction(evt0, direction) #Coloca uma direçã de interesse\n",
    "VF = DTI.set_direction(evt0, direction) #Coloca uma direçã de interesse"
   ]
  },
  {
   "cell_type": "markdown",
   "metadata": {},
   "source": [
    "## Data visualization\n",
    "\n",
    "#### FA or MD\n",
    "\n",
    "(if all tensors have the same FA or MD values, the map has no contrast)"
   ]
  },
  {
   "cell_type": "code",
   "execution_count": 5,
   "metadata": {},
   "outputs": [
    {
     "name": "stdout",
     "output_type": "stream",
     "text": [
      "Using matplotlib backend: TkAgg\n"
     ]
    }
   ],
   "source": [
    "# Show scalar map (FA, MD, etc..)\n",
    "\n",
    "SF = FA\n",
    "# SF = MD\n",
    "\n",
    "DTI.show_scalar_field(FA)"
   ]
  },
  {
   "cell_type": "markdown",
   "metadata": {},
   "source": [
    "#### First vector (main tensor direction)\n",
    "This is a 3D vecotr field, so each voxel is associated with a vector."
   ]
  },
  {
   "cell_type": "code",
   "execution_count": 6,
   "metadata": {},
   "outputs": [
    {
     "name": "stdout",
     "output_type": "stream",
     "text": [
      "Using matplotlib backend: TkAgg\n"
     ]
    }
   ],
   "source": [
    "# Show Vector Field\n",
    "DTI.show_vector_field_2(VF)"
   ]
  },
  {
   "cell_type": "code",
   "execution_count": null,
   "metadata": {
    "collapsed": true
   },
   "outputs": [],
   "source": []
  }
 ],
 "metadata": {
  "anaconda-cloud": {},
  "kernelspec": {
   "display_name": "Python [conda env:py2]",
   "language": "python",
   "name": "conda-env-py2-py"
  },
  "language_info": {
   "codemirror_mode": {
    "name": "ipython",
    "version": 2
   },
   "file_extension": ".py",
   "mimetype": "text/x-python",
   "name": "python",
   "nbconvert_exporter": "python",
   "pygments_lexer": "ipython2",
   "version": "2.7.12"
  }
 },
 "nbformat": 4,
 "nbformat_minor": 1
}
