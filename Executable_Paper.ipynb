{
 "cells": [
  {
   "cell_type": "markdown",
   "metadata": {
    "hideCode": false,
    "hidePrompt": false
   },
   "source": [
    "# Automatic Corpus Callosum Midsagittal Plane Computation through DTI-Based Divergence Map"
   ]
  },
  {
   "cell_type": "markdown",
   "metadata": {
    "collapsed": true,
    "hideCode": false,
    "hidePrompt": false
   },
   "source": [
    "# METHOD\n",
    "\n",
    "**1) Pre-procesing and CC Automatic Identification; 2) Divergence Map Computation; 3) Plane Fitting.**\n",
    "\n",
    "<img src=\"figures/Flow_07.png\" />\n",
    "<em>Algorithm Flowchart</em>"
   ]
  },
  {
   "cell_type": "markdown",
   "metadata": {
    "hideCode": false,
    "hidePrompt": false
   },
   "source": [
    "## 1) - CC Automatic Identification"
   ]
  },
  {
   "cell_type": "code",
   "execution_count": 1,
   "metadata": {
    "hideCode": false,
    "hideOutput": false,
    "hidePrompt": false
   },
   "outputs": [
    {
     "name": "stdout",
     "output_type": "stream",
     "text": [
      "Using matplotlib backend: TkAgg\n"
     ]
    }
   ],
   "source": [
    "# import modules and libs\n",
    "import io, os, sys, types\n",
    "import numpy as np\n",
    "\n",
    "# image and graphic\n",
    "from IPython.display import Image\n",
    "from IPython.display import display\n",
    "import matplotlib.pyplot as plt\n",
    "%matplotlib\n",
    "from mpl_toolkits.mplot3d import Axes3D\n",
    "\n",
    "#import specific modules\n",
    "import DTIlib as DTI"
   ]
  },
  {
   "cell_type": "code",
   "execution_count": 3,
   "metadata": {
    "hideCode": false,
    "hideOutput": false,
    "hidePrompt": false
   },
   "outputs": [
    {
     "name": "stdout",
     "output_type": "stream",
     "text": [
      "- Loading subject  1\n",
      "- Creating VOI from segmentation centroid\n",
      "- Croping volumes\n",
      "- fa shape = (18L, 90L, 36L)\n",
      "DONE - CC Automatic Identification\n"
     ]
    }
   ],
   "source": [
    "# Load data and extrac a VOI arround the corpus calosum\n",
    "\n",
    "#subjects folder\n",
    "BASE_PATH = 'data'\n",
    "\n",
    "#subject number {1, 2}\n",
    "subject_number = 1\n",
    "\n",
    "subject_dir = str(BASE_PATH)+str('/subject00')+str(subject_number)\n",
    "center = np.load(str(BASE_PATH)+str('/Centers/c_CC_')+str(subject_number)+str('.npy'))\n",
    "\n",
    "#load DTI\n",
    "print '- Loading subject ', subject_number\n",
    "FA, evl, evt = DTI.load_fa_evl_evt(subject_dir) #Load, Fractional anisotropy, eigenvalues, and egenvectors\n",
    "\n",
    "print '- Creating VOI from segmentation centroid'\n",
    "#crop volumes\n",
    "SZ, SY, SX = FA.shape\n",
    "CZ, CY, CX = center\n",
    "\n",
    "#define VOI\n",
    "sz = 18\n",
    "sy = 90\n",
    "sx = 36\n",
    "\n",
    "# voi = np.array([SZ/2 - sz/2, SZ/2 + sz/2, SY/2 - sy/2, SY/2 + sy/2, SX/2 - sx/2, SX/2 + sx/2])\n",
    "voi = np.array([CZ - sz/2, CZ + sz/2, CY - sy/2, CY + sy/2, CX - sx/2, CX + sx/2])\n",
    "\n",
    "print '- Croping volumes'\n",
    "FA_crop = FA[voi[0]:voi[1],voi[2]:voi[3],voi[4]:voi[5]]\n",
    "evl_crop = evl[:,voi[0]:voi[1],voi[2]:voi[3],voi[4]:voi[5]]\n",
    "evt_crop = evt[:,:,voi[0]:voi[1],voi[2]:voi[3],voi[4]:voi[5]]\n",
    "\n",
    "print '- fa shape =', FA_crop.shape\n",
    "# print '- Interpolating data in z axis'\n",
    "evt_interpolated, evl_interpolated, fa_interpolated = DTI.interpola_Z_2(evt_crop, evl_crop, FA_crop)\n",
    "# print '- fa_interpolated shape =', fa_interpolated.shape\n",
    "\n",
    "print 'DONE - CC Automatic Identification'"
   ]
  },
  {
   "cell_type": "markdown",
   "metadata": {
    "hideCode": false,
    "hidePrompt": false
   },
   "source": [
    "## 2) - Divergence Map Computation"
   ]
  },
  {
   "cell_type": "code",
   "execution_count": 4,
   "metadata": {
    "hideCode": false,
    "hidePrompt": false
   },
   "outputs": [
    {
     "name": "stdout",
     "output_type": "stream",
     "text": [
      "- Weighting FA\n",
      "- Computing Vector Fields\n",
      "- Computing Divergence Maps\n",
      "DONE - Divergence Map Computation\n"
     ]
    }
   ],
   "source": [
    "# Algoritm parameters (user defines)\n",
    "#----------------------------\n",
    "angle_step = 0.2\n",
    "min_angle = 80\n",
    "max_angle = 180 - min_angle\n",
    "#----------------------------\n",
    "\n",
    "\n",
    "print '- Weighting FA'\n",
    "w_fa = fa_interpolated*np.abs(evt_interpolated[0,2,:,:,:])\n",
    "# # uncomment below to see how w_FA looks like\n",
    "# DTI.show_scalar_field(w_fa)\n",
    "\n",
    "print '- Computing Vector Fields'\n",
    "na, Directions = DTI.calcdirections4(angle_step, min_angle)\n",
    "VF = evt_interpolated[0,:,:,:,:]*w_fa\n",
    "VFs = DTI.set_directions(VF, Directions) #lookuptable\n",
    "\n",
    "print '- Computing Divergence Maps'\n",
    "div_lut = DTI.divergence_lut(VFs)\n",
    "\n",
    "print 'DONE - Divergence Map Computation'"
   ]
  },
  {
   "cell_type": "markdown",
   "metadata": {
    "hideCode": false,
    "hidePrompt": false
   },
   "source": [
    "## 3) - Plane Fitting\n"
   ]
  },
  {
   "cell_type": "code",
   "execution_count": 5,
   "metadata": {
    "hideCode": false,
    "hidePrompt": false
   },
   "outputs": [
    {
     "name": "stdout",
     "output_type": "stream",
     "text": [
      "- Thresholding Divergence Maps\n",
      "- Finding canditate planes\n",
      "- Fitting 1st order polynomial\n",
      "DONE - Plane Fitting\n",
      "- normal =  [ 0.01122652 -0.01457177  0.9998308 ]\n",
      "- d =  -18.5691502763\n",
      "- alpha =  0.643245628755\n",
      "- theta =  -0.834930380969\n"
     ]
    }
   ],
   "source": [
    "# Algoritm parameters (user defines)\n",
    "#----------------------------\n",
    "threshold_div = 0.4\n",
    "max_dist = 2\n",
    "#----------------------------\n",
    "\n",
    "# Algoritm parameters (internal use)\n",
    "#----------------------------\n",
    "n_min_points=5\n",
    "n_max_interations=50\n",
    "percentile=2\n",
    "#----------------------------\n",
    "\n",
    "print '- Thresholding Divergence Maps'\n",
    "div_tre_abs = np.abs(div_lut)\n",
    "div_tre_abs = div_tre_abs/np.max(div_tre_abs)\n",
    "div_tre_abs = div_tre_abs > threshold_div\n",
    "# DTI.show_scalar_field(div_tre_abs[105])\n",
    "    \n",
    "print '- Finding canditate planes'\n",
    "NORMAL, D_p, prod_int, mean_error, n_iterations = DTI.fitting_planes_2(div_tre_abs, Directions, n_min_points=n_min_points, n_max_interations=n_max_interations, max_dist=max_dist, percentile=percentile)\n",
    "\n",
    "\n",
    "print '- Fitting 1st order polynomial'\n",
    "y = prod_int\n",
    "x = np.asarray(range(int((max_angle-min_angle+1)/angle_step)))\n",
    "_, _, root, _ = DTI.fitting_reta(y, x, n_min_points=40, n_max_interations=80, max_dist=0.005, percentile=2)\n",
    "\n",
    "if ((x.size < root) or (root < 0)):\n",
    "    n = x.size/2\n",
    "    print '- ERROR, couldn´t find a good plane'\n",
    "    \n",
    "else:\n",
    "    n = int(np.round(root))\n",
    "    \n",
    "# # Plot inner product\n",
    "# #-------------------------------------------------------------------------------\n",
    "# fit = np.polyfit(x,y,1)\n",
    "# fit_fn = np.poly1d(fit) \n",
    "# line_up = plt.plot(x,y, linewidth=linewidth_, label='prod_int')\n",
    "# line_up = plt.plot(x,fit_fn(x), '--', linewidth=linewidth_, label='polynomial')\n",
    "# plt.legend(loc='upper center')\n",
    "# #-------------------------------------------------------------------------------\n",
    "\n",
    "\n",
    "normal = NORMAL[n]\n",
    "d = D_p[n]\n",
    "alpha, theta = DTI.angle_from_vector_2(normal)\n",
    "\n",
    "print 'DONE - Plane Fitting'\n",
    "\n",
    "\n",
    "print '- normal = ', normal\n",
    "print '- d = ', d\n",
    "\n",
    "print '- alpha = ', alpha\n",
    "print '- theta = ', theta"
   ]
  },
  {
   "cell_type": "code",
   "execution_count": 6,
   "metadata": {
    "collapsed": true,
    "hideCode": false,
    "hidePrompt": false
   },
   "outputs": [],
   "source": [
    "# Show CFCP\n",
    "data = np.where(div_tre_abs[n] > 0)\n",
    "data = np.asarray(data)\n",
    "data = data.T\n",
    "xx2, yy2 = np.meshgrid(np.arange(0, 2*sz, 5), np.arange(0, sy+5, 5))\n",
    "z2 = (-normal[0] * xx2 - normal[1] * yy2 - d) * 1. /normal[2]\n",
    "\n",
    "# plot the surface\n",
    "plt3d = plt.figure().gca(projection='3d')\n",
    "plt3d.plot_surface(xx2, yy2, z2, rstride=1, cstride=1, alpha=0.5)\n",
    "\n",
    "# plot points\n",
    "plt3d.scatter(data[:,0], data[:,1], data[:,2], c='r', s=40)\n",
    "\n",
    "# Z e X trocados para nao dar problema numérico\n",
    "plt.xlabel('Z')\n",
    "plt.ylabel('Y')\n",
    "plt3d.set_zlabel('X')\n",
    "\n",
    "plt3d.set_zlim3d(0, 40)\n",
    "plt3d.set_ylim3d(0, 90)\n",
    "plt3d.set_xlim3d(-10, 50)\n",
    "\n",
    "plt.show()"
   ]
  },
  {
   "cell_type": "markdown",
   "metadata": {},
   "source": [
    "# Experiments and Results\n",
    "\n",
    "<img src=\"figures/subject02_CFCP_01.png\" />\n",
    "<em>Fig. 1 - Qualitative results: Red dots are the point with absolute divergence above the threshold; Blue plane is a representation of the CFCP.</em>"
   ]
  },
  {
   "cell_type": "markdown",
   "metadata": {},
   "source": [
    "## Threshold Value Selection\n",
    "\n",
    "<img src=\"figures/threshold.png\" width=\"500\" />\n",
    "\n",
    "<em>Fig. 2 - Standard deviation of angles theta (blue) and alpha (green) resulting from Callosal Fiber Convergence Plane (CFCP) computation for all subjects.</em>\n"
   ]
  },
  {
   "cell_type": "markdown",
   "metadata": {},
   "source": [
    "## CC Initial Orientation\n",
    "\n",
    "<img src=\"figures/rots.png\" width=\"500\" />\n",
    "<em>Fig. 3 - Coronal CC slice in three different inclinations (above), with the inner product between the normal vector and the final plane tested over the direction of analysis in three distinct inclinations (below), where: $+5$ (blue), $0$ (green) and $-5$ (red).</em>"
   ]
  },
  {
   "cell_type": "markdown",
   "metadata": {},
   "source": [
    "## Comparison Between CFCP and MSP\n",
    "\n",
    "<img src=\"figures/comp.png\" width=\"500\" />\n",
    "<em>Fig. 4 - Example of intersection between the resulting CFCP (yellow line) and MSPs (white and green lines) and: the axial (left); and coronal (right) planes.</em>\n",
    "\n",
    "<img src=\"figures/comp2.png\" width=\"500\" />\n",
    "<em>Fig. 5 - Comparison results between the CFCP plane, and the MSP planes obtained using the methods from Liu et al. [13] and from Bergo et al. [14]: $\\theta$ angle (left), $\\alpha$ angle (middle) and displacement $d$ (right).</em>\n"
   ]
  },
  {
   "cell_type": "markdown",
   "metadata": {
    "hideCode": false,
    "hidePrompt": false
   },
   "source": [
    "# REFERENCES\n",
    "\n",
    "[1] Gustavo R Pinheiro, Guilherme S Soares, Andre Lu´ıs Costa, Roberto A Lotufo, and Leticia Rittner, “Divergence map from diffusion tensor imaging: Concepts and application to corpus callosum,” in Engineering in Medicine and Biology Society (EMBC), 2016 IEEE 38th Annual International Conference of the. IEEE, 2016, pp. 1120–1123. \n",
    "\n",
    "[2] Judith M Rumsey, Manuel Casanova, Glenn B Mannheim, Nicholas Patronas, Nathan DeVaughn, Susan D Hamburger, and Tracy Aquino, “Corpus callosum morphology, as measured with mri, in dyslexic men,” Biological psychiatry, vol. 39, no. 9, pp. 769–775, 1996. \n",
    "\n",
    "[3] Hae-Jeong Park, Jae Jin Kim, Seung-Koo Lee, Jeong Ho Seok, Jiwon Chun, Dong Ik Kim, and Jong Doo Lee, “Corpus callosal connection mapping using cortical gray matter parcellation and dt-mri,” Human brain mapping, vol. 29, no. 5, pp. 503–516, 2008. \n",
    "\n",
    "[4] Sandra F Witelson, “Hand and sex differences in the isthmus and genu of the human corpus callosum,” Brain, vol. 112, no. 3, pp. 799–835,  1989. \n",
    "\n",
    "[5] Sandra F Witelson and Charles H Goldsmith, “The relationship of  hand preference to anatomy of the corpus callosum in men,” Brain research, vol. 545, no. 1, pp. 175–182, 1991.\n",
    "\n",
    "[6] Sterling C Johnson, Tamra Farnworth, James B Pinkston, Erin D Bigler, and Duane D Blatter, “Corpus callosum surface area across the human adult life span: effect of age and gender,” Brain Research Bulletin, vol. 35, no. 4, pp. 373–377, 1994. \n",
    "\n",
    "[7] Marcia Radanovic, Fabr´ıcio Ramos Silvestre Pereira, Florindo Stella, Ivan Aprahamian, Luiz Kobuti Ferreira, Orestes Vicente Forlenza, and Geraldo F Busatto, “White matter abnormalities associated with alzheimers disease and mild cognitive impairment: a critical review of mri studies,” Expert review of neurotherapeutics, vol. 13, no. 5, pp. 483–493, 2013. \n",
    "\n",
    "[8] Nidhi Garg, Stephen W Reddel, David H Miller, Jeremy Chataway, D Sean Riminton, Yael Barnett, Lynette Masters, Michael H Barnett, and Todd A Hardy, “The corpus callosum in the diagnosis of multiple sclerosis and other cns demyelinating and inflammatory diseases,” Journal of Neurology, Neurosurgery & Psychiatry, pp. jnnp–2014, 2015. \n",
    "\n",
    "[9] P.J. Basser and C. Pierpaoli, “Microstructural and physiological features of tissues elucidated by quantitative-diffusion-tensor MRI,” J. Magn. Reson., vol. 111, no. 3, pp. 209–219, June 1996. \n",
    "\n",
    "[10] Dongrong Xu, Susumu Mori, Meiyappan Solaiyappan, Peter CM van Zijl, and Christos Davatzikos, “A framework for callosal fiber distribution analysis,” Neuroimage, vol. 17, no. 3, pp. 1131–1143, 2002. \n",
    "\n",
    "[11] Babak A Ardekani, Jeff Kershaw, Michael Braun, and I Kanuo, “Automatic detection of the mid-sagittal plane in 3-d brain images,” IEEE transactions on medical imaging, vol. 16, no. 6, pp. 947–952, 1997. \n",
    "\n",
    "[12] Qingmao Hu and Wieslaw L Nowinski, “A rapid algorithm for robust and automatic extraction of the midsagittal plane of the human cerebrum from neuroimages based on local symmetry and outlier removal,” NeuroImage, vol. 20, no. 4, pp. 2153–2165, 2003. \n",
    "\n",
    "[13] Yanxi Liu, Robert T Collins, and William E Rothfus, “Robust midsagittal plane extraction from normal and pathological 3-d neuroradiology images,” IEEE transactions on medical imaging, vol. 20, no. 3, pp. 175–192, 2001. \n",
    "\n",
    "[14] Felipe PG Bergo, Alexandre X Falcão, Clarissa L Yasuda, and Guilherme CS Ruppert, “Fast, accurate and precise mid-sagittal plane location in 3d mr images of the brain,” in International Joint Conference on Biomedical Engineering Systems and Technologies. Springer, 2008, pp. 278–290. \n",
    "\n",
    "[15] Pedro Freitas, Leticia Rittner, Simone Appenzeller, and Roberto Lotufo, “Watershed-based segmentation of the midsagittal section of the corpus callosum in diffusion mri,” in Graphics, Patterns and Images (Sibgrapi), 2011 24th SIBGRAPI Conference on. IEEE, 2011, pp. 274–280."
   ]
  },
  {
   "cell_type": "code",
   "execution_count": null,
   "metadata": {
    "collapsed": true,
    "hideCode": false,
    "hidePrompt": false
   },
   "outputs": [],
   "source": []
  }
 ],
 "metadata": {
  "anaconda-cloud": {},
  "celltoolbar": "Hide code",
  "hide_code_all_hidden": false,
  "kernelspec": {
   "display_name": "Python [conda env:py2]",
   "language": "python",
   "name": "conda-env-py2-py"
  },
  "language_info": {
   "codemirror_mode": {
    "name": "ipython",
    "version": 2
   },
   "file_extension": ".py",
   "mimetype": "text/x-python",
   "name": "python",
   "nbconvert_exporter": "python",
   "pygments_lexer": "ipython2",
   "version": "2.7.12"
  }
 },
 "nbformat": 4,
 "nbformat_minor": 1
}
